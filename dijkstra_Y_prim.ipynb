{
  "nbformat": 4,
  "nbformat_minor": 0,
  "metadata": {
    "colab": {
      "name": "dijkstra Y prim",
      "provenance": [],
      "collapsed_sections": [],
      "authorship_tag": "ABX9TyNjSpiLlSgLopXx4bGqVtX2"
    },
    "kernelspec": {
      "name": "python3",
      "display_name": "Python 3"
    },
    "language_info": {
      "name": "python"
    }
  },
  "cells": [
    {
      "cell_type": "markdown",
      "source": [
        "pseudocodigo dijkstra"
      ],
      "metadata": {
        "id": "wTdaDUcc_wNW"
      }
    },
    {
      "cell_type": "code",
      "source": [
        "DIJKSTRA (Grafo G, nodo_fuente s)       \n",
        "       para u ∈ V[G] hacer\n",
        "           distancia[u] = INFINITO\n",
        "           padre[u] = NULL\n",
        "           visto[u] = false\n",
        "       distancia[s] = 0\n",
        "       adicionar (cola, (s, distancia[s]))\n",
        "       mientras que cola no es vacía hacer\n",
        "           u = extraer_mínimo(cola)\n",
        "           visto[u] = true\n",
        "           para todos v ∈ adyacencia[u] hacer\n",
        "               si ¬ visto[v]      \n",
        "                   si distancia[v] > distancia[u] + peso (u, v) hacer\n",
        "                       distancia[v] = distancia[u] + peso (u, v)\n",
        "                       padre[v] = u\n",
        "                       adicionar(cola,(v, distancia[v]))"
      ],
      "metadata": {
        "id": "XF-r-L6e_wfP"
      },
      "execution_count": null,
      "outputs": []
    },
    {
      "cell_type": "markdown",
      "source": [
        "CODIGO V1.0 DIJKSTRA"
      ],
      "metadata": {
        "id": "tfUPaLWLAeq2"
      }
    },
    {
      "cell_type": "code",
      "execution_count": 15,
      "metadata": {
        "id": "i5ry2F759SKH"
      },
      "outputs": [],
      "source": [
        "from queue import PriorityQueue\n",
        "class Graph:\n",
        "   def __init__(self, num_of_vertices):\n",
        "        self.v = num_of_vertices\n",
        "        self.edges = [[-1 for i in range(num_of_vertices)] for j in range(num_of_vertices)]\n",
        "        self.visited = []\n",
        "   def add_edge(self, u, v, weight):\n",
        "        self.edges[u][v] = weight\n",
        "        self.edges[v][u] = weight\n",
        "\n",
        "\n",
        "def dijkstra(graph, start_vertex):\n",
        "    D = {v:float('inf') for v in range(graph.v)}\n",
        "    D[start_vertex] = 0\n",
        "\n",
        "    pq = PriorityQueue()\n",
        "    pq.put((0, start_vertex))\n",
        "\n",
        "    while not pq.empty():\n",
        "        (dist, current_vertex) = pq.get()\n",
        "        graph.visited.append(current_vertex)\n",
        "\n",
        "        for neighbor in range(graph.v):\n",
        "            if graph.edges[current_vertex][neighbor] != -1:\n",
        "                distance = graph.edges[current_vertex][neighbor]\n",
        "                if neighbor not in graph.visited:\n",
        "                    old_cost = D[neighbor]\n",
        "                    new_cost = D[current_vertex] + distance\n",
        "                    if new_cost < old_cost:\n",
        "                        pq.put((new_cost, neighbor))\n",
        "                        D[neighbor] = new_cost\n",
        "    return D\n",
        "\n"
      ]
    },
    {
      "cell_type": "code",
      "source": [
        "g = Graph(9)\n",
        "g.add_edge(0, 1, 4)\n",
        "g.add_edge(0, 6, 7)\n",
        "g.add_edge(1, 6, 11)\n",
        "g.add_edge(1, 7, 20)\n",
        "g.add_edge(1, 2, 9)\n",
        "g.add_edge(2, 3, 6)\n",
        "g.add_edge(2, 4, 2)\n",
        "g.add_edge(3, 4, 10)\n",
        "g.add_edge(3, 5, 5)\n",
        "g.add_edge(4, 5, 15)\n",
        "g.add_edge(4, 7, 1)\n",
        "g.add_edge(4, 8, 5)\n",
        "g.add_edge(5, 8, 12)\n",
        "g.add_edge(6, 7, 1)\n",
        "g.add_edge(7, 8, 3) \n",
        "D = dijkstra(g, 0)\n",
        "\n",
        "print(D)"
      ],
      "metadata": {
        "colab": {
          "base_uri": "https://localhost:8080/"
        },
        "id": "9VlW7-h4__an",
        "outputId": "06f37635-4bdc-4d0f-b272-86502ef8c135"
      },
      "execution_count": 16,
      "outputs": [
        {
          "output_type": "stream",
          "name": "stdout",
          "text": [
            "{0: 0, 1: 4, 2: 11, 3: 17, 4: 9, 5: 22, 6: 7, 7: 8, 8: 11}\n"
          ]
        }
      ]
    },
    {
      "cell_type": "markdown",
      "source": [
        "PSEUDOCODIGO PRIM"
      ],
      "metadata": {
        "id": "Hn5oYuI2AmbO"
      }
    },
    {
      "cell_type": "code",
      "source": [
        "Prim (Grafo G)\n",
        "       /* Inicializamos todos los nodos del grafo. \n",
        "       La distancia la ponemos a infinito y el padre de cada nodo a NULL\n",
        "        Encolamos, en una cola de prioridad \n",
        "                  donde la prioridad es la distancia, \n",
        "               todas las parejas <nodo, distancia> del grafo*/\n",
        "       por cada u en V[G] hacer\n",
        "           distancia[u] = INFINITO\n",
        "           padre[u] = NULL\n",
        "           Añadir(cola,<u, distancia[u]>)\n",
        "       distancia[u]=0\n",
        "       Actualizar(cola,<u, distancia[u]>)\n",
        "       mientras !esta_vacia(cola) hacer\n",
        "           // OJO: Se entiende por mayor prioridad aquel nodo cuya distancia[u] es menor.\n",
        "           u = extraer_minimo(cola) //devuelve el mínimo y lo elimina de la cola.\n",
        "           por cada v adyacente a 'u' hacer\n",
        "               si ((v ∈ cola) && (distancia[v] > peso(u, v)) entonces\n",
        "                   padre[v] = u\n",
        "                   distancia[v] = peso(u, v)\n",
        "                   Actualizar(cola,<v, distancia[v]>)"
      ],
      "metadata": {
        "id": "vNMJYcnMA8sO",
        "colab": {
          "base_uri": "https://localhost:8080/",
          "height": 135
        },
        "outputId": "9f209be4-c860-4960-9f11-be2413751a27"
      },
      "execution_count": 17,
      "outputs": [
        {
          "output_type": "error",
          "ename": "SyntaxError",
          "evalue": "ignored",
          "traceback": [
            "\u001b[0;36m  File \u001b[0;32m\"<ipython-input-17-7d03fda9ed74>\"\u001b[0;36m, line \u001b[0;32m1\u001b[0m\n\u001b[0;31m    Prim (Grafo G)\u001b[0m\n\u001b[0m                ^\u001b[0m\n\u001b[0;31mSyntaxError\u001b[0m\u001b[0;31m:\u001b[0m invalid syntax\n"
          ]
        }
      ]
    },
    {
      "cell_type": "markdown",
      "source": [
        "CODIGO  V1.0 PRIM"
      ],
      "metadata": {
        "id": "nePLZRykAY0e"
      }
    },
    {
      "cell_type": "code",
      "source": [
        "\n",
        "\n",
        "\n",
        "INF = 9999999\n",
        "\n",
        "V = 5\n",
        "\n",
        "G = [[0, 9, 75, 0, 0],\n",
        "     [9, 0, 95, 19, 42],\n",
        "     [75, 95, 0, 51, 66],\n",
        "     [0, 19, 51, 0, 31],\n",
        "     [0, 42, 66, 31, 0]]\n",
        "\n",
        "selected = [0, 0, 0, 0, 0]\n",
        "\n",
        "no_edge = 0\n",
        "\n",
        "selected[0] = True\n",
        "\n",
        "print(\"NODO : PESO\")\n",
        "while (no_edge < V - 1):\n",
        "\n",
        "    minimum = INF\n",
        "    x = 0\n",
        "    y = 0\n",
        "    for i in range(V):\n",
        "        if selected[i]:\n",
        "            for j in range(V):\n",
        "                if ((not selected[j]) and G[i][j]):  \n",
        "\n",
        "                    if minimum > G[i][j]:\n",
        "                        minimum = G[i][j]\n",
        "                        x = i\n",
        "                        y = j\n",
        "    print(str(x) + \"-\" + str(y) + \":\" + str(G[x][y]))\n",
        "    selected[y] = True\n",
        "    no_edge += 1"
      ],
      "metadata": {
        "colab": {
          "base_uri": "https://localhost:8080/"
        },
        "id": "OOYOtT-TASnG",
        "outputId": "545820c7-b292-4e24-c8f6-880a2bd8ff95"
      },
      "execution_count": 18,
      "outputs": [
        {
          "output_type": "stream",
          "name": "stdout",
          "text": [
            "NODO : PESO\n",
            "0-1:9\n",
            "1-3:19\n",
            "3-4:31\n",
            "3-2:51\n"
          ]
        }
      ]
    }
  ]
}